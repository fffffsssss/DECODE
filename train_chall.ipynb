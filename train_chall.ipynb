{
 "cells": [
  {
   "cell_type": "code",
   "execution_count": 1,
   "metadata": {
    "ExecuteTime": {
     "end_time": "2019-12-18T07:42:26.313684Z",
     "start_time": "2019-12-18T07:42:24.732188Z"
    },
    "run_control": {
     "frozen": false,
     "read_only": false
    }
   },
   "outputs": [],
   "source": [
    "import torch \n",
    "import numpy as np\n",
    "import collections\n",
    "import time\n",
    "import pickle \n",
    "from tqdm import tqdm\n",
    "\n",
    "import sys\n",
    "import os\n",
    "\n",
    "os.environ['CUDA_VISIBLE_DEVICES']='3'\n",
    "\n",
    "sys.path.append('engine/')\n",
    "sys.path.append('funcs/')\n",
    "sys.setrecursionlimit(10000)\n",
    "\n",
    "from matplotlib import pyplot as plt\n",
    "import seaborn as sns\n",
    "sns.set_style(\"white\")\n",
    "\n",
    "from Model import *\n",
    "from eval_funcs import *\n",
    "from plot_funcs import *\n",
    "from utils import *\n",
    "from csv_utils import *\n",
    "from tifffile import *\n",
    "\n",
    "data_folder = os.getenv('HOME')+'/Mackebox/Artur/WorkDB/deepstorm/datasets/'"
   ]
  },
  {
   "cell_type": "code",
   "execution_count": 2,
   "metadata": {
    "ExecuteTime": {
     "end_time": "2019-12-17T17:45:39.631358Z",
     "start_time": "2019-12-17T17:45:39.617050Z"
    },
    "run_control": {
     "frozen": false,
     "read_only": false
    }
   },
   "outputs": [
    {
     "data": {
      "text/plain": [
       "'DH high SNR'"
      ]
     },
     "execution_count": 2,
     "metadata": {},
     "output_type": "execute_result"
    }
   ],
   "source": [
    "'''2D low SNR'''\n",
    "# name = 'decode_2d_low'  \n",
    "# eval_dataset = data_folder + '/SMLM_2016/sequence-as-stack-MT0.N2.HD-2D-Exp.tif'\n",
    "# train_dataset = data_folder + '/SMLM_2016/sequence-as-stack-MT4.N2.HD-2D-Exp.tif'\n",
    "# psf_fit = None\n",
    "# psf_params =  {'width1':1.1, 'width2':5., 'w_prop':0.6, 'z_scale':5, 'modality':'GAUSS_2D'}\n",
    "# scale =  10.\n",
    "# z_prior =  [0.,1.5]\n",
    "\n",
    "'''2D high SNR'''\n",
    "# name = 'decode_2d_high'  \n",
    "# eval_dataset = data_folder + '/SMLM_2016/sequence-as-stack-MT0.N1.HD-2D-Exp.tif'\n",
    "# train_dataset = data_folder + '/SMLM_2016/sequence-as-stack-MT0.N1.HD-2D-Exp.tif'\n",
    "# psf_fit = None\n",
    "# psf_params =  {'width1':1.1, 'width2':5., 'w_prop':0.6, 'z_scale':5, 'modality':'GAUSS_2D'}\n",
    "# scale =  100.\n",
    "# z_prior =  [0.,1.5]\n",
    "\n",
    "'''AS low SNR'''\n",
    "name = 'decode_as_low' \n",
    "eval_dataset = data_folder + '/SMLM_2016/sequence-as-stack-MT0.N2.HD-AS-Exp.tif'\n",
    "train_dataset = data_folder + '/SMLM_2016/sequence-as-stack-MT4.N2.HD-AS-Exp.tif'\n",
    "psf_fit = 'psf_chall_as_5.pkl'\n",
    "scale =  10\n",
    "z_prior =  [0,0.5]\n",
    "\n",
    "'''AS high SNR'''\n",
    "# name = 'decode_as_high'  \n",
    "# eval_dataset = data_folder + '/SMLM_2016/sequence-as-stack-MT0.N1.HD-AS-Exp.tif'\n",
    "# train_dataset = data_folder + '/SMLM_2016/sequence-as-stack-MT2.N1.HD-AS-Exp.tif'\n",
    "# psf_fit = 'psf_chall_as_5.pkl'\n",
    "# scale =  100.\n",
    "# z_prior =  [0,0.5]\n",
    "\n",
    "'''DH low SNR'''\n",
    "# name = 'decode_dh_low'  \n",
    "# eval_dataset = data_folder + '/SMLM_2016/sequence-as-stack-MT0.N2.HD-DH-Exp.tif'\n",
    "# train_dataset = data_folder + '/SMLM_2016/sequence-as-stack-MT4.N2.HD-DH-Exp.tif'\n",
    "# psf_fit = 'psf_chall_dh_5.pkl'\n",
    "# scale =  30.\n",
    "# z_prior =  [0,0.5]\n",
    "\n",
    "'''DH high SNR'''\n",
    "# name = 'decode_dh_high'  \n",
    "# eval_dataset = data_folder + '/SMLM_2016/sequence-as-stack-MT0.N1.HD-DH-Exp.tif'\n",
    "# train_dataset = data_folder + '/SMLM_2016/sequence-as-stack-MT2.N1.HD-DH-Exp.tif'\n",
    "# psf_fit = 'psf_chall_dh_5.pkl'\n",
    "# scale =  300.\n",
    "# z_prior =  [0,0.5]"
   ]
  },
  {
   "cell_type": "code",
   "execution_count": 3,
   "metadata": {
    "ExecuteTime": {
     "end_time": "2019-12-17T17:45:39.641432Z",
     "start_time": "2019-12-17T17:45:39.634853Z"
    },
    "run_control": {
     "frozen": false,
     "read_only": false
    }
   },
   "outputs": [
    {
     "data": {
      "text/plain": [
       "'Simulator learning learning'"
      ]
     },
     "execution_count": 3,
     "metadata": {},
     "output_type": "execute_result"
    }
   ],
   "source": [
    "'''Combined learning'''\n",
    "train_mode = 'co'\n",
    "global_context = True\n",
    "\n",
    "'''Simulator learning learning'''\n",
    "# train_mode = 'co'\n",
    "# global_context = True"
   ]
  },
  {
   "cell_type": "code",
   "execution_count": 4,
   "metadata": {
    "ExecuteTime": {
     "end_time": "2019-12-17T17:45:39.967663Z",
     "start_time": "2019-12-17T17:45:39.644781Z"
    },
    "run_control": {
     "frozen": false,
     "read_only": false
    }
   },
   "outputs": [],
   "source": [
    "train_images = imread(train_dataset)\n",
    "eval_images  = imread(eval_dataset)\n",
    "eval_csv = read_csv(data_folder + '/SMLM_2016/activations_HD_N2.csv')\n",
    "\n",
    "bg_train, _ = get_bg_stats(train_images)\n",
    "bg_test, _ = get_bg_stats(eval_images)\n",
    "\n",
    "eval_images = eval_images + (bg_train - bg_test)"
   ]
  },
  {
   "cell_type": "code",
   "execution_count": 5,
   "metadata": {
    "ExecuteTime": {
     "end_time": "2019-12-17T17:45:45.714102Z",
     "start_time": "2019-12-17T17:45:39.969586Z"
    },
    "run_control": {
     "frozen": false,
     "read_only": false
    }
   },
   "outputs": [],
   "source": [
    "batch_size = 10\n",
    "n_samples = 40\n",
    "win_size = 40\n",
    "\n",
    "rec_params = {}\n",
    "\n",
    "rec_params['n_filters'] = 48\n",
    "rec_params['factor'] = train_images.mean(0).max().astype(config.floatX)\n",
    "rec_params['offset'] = train_images.mean().astype(config.floatX)\n",
    "rec_params['global_context'] = global_context\n",
    "rec_params['local_context'] = True\n",
    "rec_params['bg_pred'] = False\n",
    "rec_params['sig_pred'] = True\n",
    "\n",
    "if psf_fit:\n",
    "    psf_params = {}\n",
    "    with open(psf_fit, 'rb') as f:\n",
    "        psf_fit = pickle.load(f)\n",
    "    psf_params = psf_fit['psf_params']\n",
    "    del(psf_params['beads_fit'])\n",
    "else:\n",
    "    psf_params = psf_params\n",
    "\n",
    "psf_params['scale'] = scale\n",
    "\n",
    "ll_params = {}\n",
    "ll_params['baseline'] = 100\n",
    "ll_params['theta'] = gpu([2*300/45])\n",
    "ll_params['backg'] = bg_train\n",
    "ll_params['p_act'] = 0.05\n",
    "ll_params['p_lambda'] = 0.05\n",
    "ll_params['surv_p'] = 0.5\n",
    "ll_params['z_prior'] = z_prior\n",
    "ll_params['prior_fac'] = 2.\n",
    "ll_params['min_int'] = 0.1\n",
    "\n",
    "model = Model(rec_params, psf_params, ll_params)\n",
    "\n",
    "model.train_mode = train_mode\n",
    "\n",
    "if psf_fit:\n",
    "    model.mgen.w_map = psf_fit['w_map']\n",
    "    model.wobble = psf_fit['wobble']\n",
    "    model.fixed_psf = True\n",
    "\n",
    "model.window_map = get_window_map(train_images,win_size, 20)\n",
    "model.eval_csv = eval_csv\n",
    "model.eval_imgs = eval_images[:250]\n",
    "\n",
    "model.warm_up = 1000\n",
    "\n",
    "model.filename = name"
   ]
  },
  {
   "cell_type": "code",
   "execution_count": 6,
   "metadata": {
    "ExecuteTime": {
     "end_time": "2019-12-17T17:45:46.104318Z",
     "start_time": "2019-12-17T17:45:45.718005Z"
    },
    "run_control": {
     "frozen": false,
     "read_only": false
    },
    "scrolled": false
   },
   "outputs": [
    {
     "ename": "IndexError",
     "evalue": "tuple index out of range",
     "output_type": "error",
     "traceback": [
      "\u001b[0;31m---------------------------------------------------------------------------\u001b[0m",
      "\u001b[0;31mIndexError\u001b[0m                                Traceback (most recent call last)",
      "\u001b[0;32m<ipython-input-6-f88bd27fba55>\u001b[0m in \u001b[0;36m<module>\u001b[0;34m\u001b[0m\n\u001b[0;32m----> 1\u001b[0;31m \u001b[0mmodel\u001b[0m\u001b[0;34m.\u001b[0m\u001b[0mfit\u001b[0m\u001b[0;34m(\u001b[0m\u001b[0mtrain_images\u001b[0m\u001b[0;34m,\u001b[0m \u001b[0mbatch_size\u001b[0m\u001b[0;34m=\u001b[0m\u001b[0mbatch_size\u001b[0m\u001b[0;34m,\u001b[0m\u001b[0mn_samples\u001b[0m\u001b[0;34m=\u001b[0m\u001b[0mn_samples\u001b[0m\u001b[0;34m,\u001b[0m \u001b[0mwin_size\u001b[0m\u001b[0;34m=\u001b[0m\u001b[0mwin_size\u001b[0m\u001b[0;34m,\u001b[0m \u001b[0mmax_iters\u001b[0m\u001b[0;34m=\u001b[0m\u001b[0;36m50000\u001b[0m\u001b[0;34m,\u001b[0m \u001b[0mlearning_rate\u001b[0m \u001b[0;34m=\u001b[0m \u001b[0;36m6e-4\u001b[0m\u001b[0;34m,\u001b[0m \u001b[0mprint_freq\u001b[0m\u001b[0;34m=\u001b[0m\u001b[0;36m100\u001b[0m\u001b[0;34m,\u001b[0m \u001b[0mprint_output\u001b[0m\u001b[0;34m=\u001b[0m\u001b[0;32mTrue\u001b[0m\u001b[0;34m)\u001b[0m\u001b[0;34m\u001b[0m\u001b[0;34m\u001b[0m\u001b[0m\n\u001b[0m",
      "\u001b[0;32m~/Dropbox (mackelab)/Artur/WorkDB/deepstorm/DECODE/engine/Model.py\u001b[0m in \u001b[0;36mfit\u001b[0;34m(self, trainf, batch_size, n_samples, win_size, max_iters, learning_rate, print_output, print_freq)\u001b[0m\n\u001b[1;32m    191\u001b[0m                     \u001b[0;32mif\u001b[0m \u001b[0mself\u001b[0m\u001b[0;34m.\u001b[0m\u001b[0mtrain_mode\u001b[0m \u001b[0;34m==\u001b[0m \u001b[0;34m'co'\u001b[0m \u001b[0;32mor\u001b[0m \u001b[0mself\u001b[0m\u001b[0;34m.\u001b[0m\u001b[0m_iter_count\u001b[0m \u001b[0;34m<\u001b[0m \u001b[0mself\u001b[0m\u001b[0;34m.\u001b[0m\u001b[0mwarm_up\u001b[0m\u001b[0;34m:\u001b[0m\u001b[0;34m\u001b[0m\u001b[0;34m\u001b[0m\u001b[0m\n\u001b[1;32m    192\u001b[0m \u001b[0;34m\u001b[0m\u001b[0m\n\u001b[0;32m--> 193\u001b[0;31m                         \u001b[0mloss\u001b[0m \u001b[0;34m=\u001b[0m \u001b[0mself\u001b[0m\u001b[0;34m.\u001b[0m\u001b[0mtrain_sl\u001b[0m\u001b[0;34m(\u001b[0m\u001b[0;34m)\u001b[0m\u001b[0;34m\u001b[0m\u001b[0;34m\u001b[0m\u001b[0m\n\u001b[0m\u001b[1;32m    194\u001b[0m \u001b[0;34m\u001b[0m\u001b[0m\n\u001b[1;32m    195\u001b[0m                     \u001b[0;32mif\u001b[0m \u001b[0mself\u001b[0m\u001b[0;34m.\u001b[0m\u001b[0m_iter_count\u001b[0m \u001b[0;34m>=\u001b[0m \u001b[0mself\u001b[0m\u001b[0;34m.\u001b[0m\u001b[0mwarm_up\u001b[0m\u001b[0;34m:\u001b[0m\u001b[0;34m\u001b[0m\u001b[0;34m\u001b[0m\u001b[0m\n",
      "\u001b[0;32m~/Dropbox (mackelab)/Artur/WorkDB/deepstorm/DECODE/engine/_train_funcs.py\u001b[0m in \u001b[0;36mtrain_sl\u001b[0;34m(self)\u001b[0m\n\u001b[1;32m    119\u001b[0m         \u001b[0mself\u001b[0m\u001b[0;34m.\u001b[0m\u001b[0moptimizer_rec\u001b[0m\u001b[0;34m.\u001b[0m\u001b[0mzero_grad\u001b[0m\u001b[0;34m(\u001b[0m\u001b[0;34m)\u001b[0m\u001b[0;34m\u001b[0m\u001b[0;34m\u001b[0m\u001b[0m\n\u001b[1;32m    120\u001b[0m \u001b[0;34m\u001b[0m\u001b[0m\n\u001b[0;32m--> 121\u001b[0;31m         \u001b[0mloss\u001b[0m \u001b[0;34m=\u001b[0m \u001b[0mself\u001b[0m\u001b[0;34m.\u001b[0m\u001b[0msimu_loss\u001b[0m\u001b[0;34m(\u001b[0m\u001b[0mP\u001b[0m\u001b[0;34m,\u001b[0m\u001b[0ms\u001b[0m\u001b[0;34m[\u001b[0m\u001b[0;34m:\u001b[0m\u001b[0;34m,\u001b[0m \u001b[0mself\u001b[0m\u001b[0;34m.\u001b[0m\u001b[0mn_inp\u001b[0m\u001b[0;34m//\u001b[0m\u001b[0;36m2\u001b[0m\u001b[0;34m]\u001b[0m\u001b[0;34m,\u001b[0m\u001b[0mXYZI_m\u001b[0m\u001b[0;34m,\u001b[0m\u001b[0mXYZI_s\u001b[0m\u001b[0;34m,\u001b[0m\u001b[0mxyzi\u001b[0m\u001b[0;34m[\u001b[0m\u001b[0;34m:\u001b[0m\u001b[0;34m,\u001b[0m \u001b[0mself\u001b[0m\u001b[0;34m.\u001b[0m\u001b[0mn_inp\u001b[0m\u001b[0;34m//\u001b[0m\u001b[0;36m2\u001b[0m\u001b[0;34m]\u001b[0m\u001b[0;34m,\u001b[0m \u001b[0mBG\u001b[0m\u001b[0;34m,\u001b[0m \u001b[0mbg\u001b[0m\u001b[0;34m)\u001b[0m\u001b[0;34m\u001b[0m\u001b[0;34m\u001b[0m\u001b[0m\n\u001b[0m\u001b[1;32m    122\u001b[0m         \u001b[0mloss\u001b[0m\u001b[0;34m.\u001b[0m\u001b[0mbackward\u001b[0m\u001b[0;34m(\u001b[0m\u001b[0;34m)\u001b[0m\u001b[0;34m\u001b[0m\u001b[0;34m\u001b[0m\u001b[0m\n\u001b[1;32m    123\u001b[0m \u001b[0;34m\u001b[0m\u001b[0m\n",
      "\u001b[0;32m~/Dropbox (mackelab)/Artur/WorkDB/deepstorm/DECODE/engine/_loss_funcs.py\u001b[0m in \u001b[0;36msimu_loss\u001b[0;34m(self, P, S_true, XYZI_m, XYZI_s, XYZI_true, BG, BG_true)\u001b[0m\n\u001b[1;32m    191\u001b[0m     \u001b[0;32mdef\u001b[0m \u001b[0msimu_loss\u001b[0m\u001b[0;34m(\u001b[0m\u001b[0mself\u001b[0m\u001b[0;34m,\u001b[0m\u001b[0mP\u001b[0m\u001b[0;34m,\u001b[0m\u001b[0mS_true\u001b[0m\u001b[0;34m,\u001b[0m\u001b[0mXYZI_m\u001b[0m\u001b[0;34m,\u001b[0m\u001b[0mXYZI_s\u001b[0m\u001b[0;34m,\u001b[0m\u001b[0mXYZI_true\u001b[0m\u001b[0;34m,\u001b[0m \u001b[0mBG\u001b[0m\u001b[0;34m,\u001b[0m \u001b[0mBG_true\u001b[0m\u001b[0;34m)\u001b[0m\u001b[0;34m:\u001b[0m\u001b[0;34m\u001b[0m\u001b[0;34m\u001b[0m\u001b[0m\n\u001b[1;32m    192\u001b[0m \u001b[0;34m\u001b[0m\u001b[0m\n\u001b[0;32m--> 193\u001b[0;31m         \u001b[0mlog_qd_given_x\u001b[0m \u001b[0;34m=\u001b[0m \u001b[0mself\u001b[0m\u001b[0;34m.\u001b[0m\u001b[0meval_q_z_x\u001b[0m\u001b[0;34m(\u001b[0m\u001b[0mS_true\u001b[0m\u001b[0;34m,\u001b[0m \u001b[0mP\u001b[0m\u001b[0;34m,\u001b[0m \u001b[0mXYZI_m\u001b[0m\u001b[0;34m,\u001b[0m\u001b[0mXYZI_s\u001b[0m\u001b[0;34m,\u001b[0m\u001b[0mXYZI_true\u001b[0m\u001b[0;34m,\u001b[0m \u001b[0msv\u001b[0m\u001b[0;34m=\u001b[0m\u001b[0;32mTrue\u001b[0m\u001b[0;34m)\u001b[0m\u001b[0;34m\u001b[0m\u001b[0;34m\u001b[0m\u001b[0m\n\u001b[0m\u001b[1;32m    194\u001b[0m         \u001b[0mbg_sq_error\u001b[0m \u001b[0;34m=\u001b[0m \u001b[0mself\u001b[0m\u001b[0;34m.\u001b[0m\u001b[0meval_bg_sq_loss\u001b[0m\u001b[0;34m(\u001b[0m\u001b[0mBG\u001b[0m\u001b[0;34m,\u001b[0m \u001b[0mBG_true\u001b[0m\u001b[0;34m)\u001b[0m \u001b[0;32mif\u001b[0m \u001b[0mBG\u001b[0m \u001b[0;32mis\u001b[0m \u001b[0;32mnot\u001b[0m \u001b[0;32mNone\u001b[0m \u001b[0;32melse\u001b[0m \u001b[0;36m0\u001b[0m\u001b[0;34m\u001b[0m\u001b[0;34m\u001b[0m\u001b[0m\n\u001b[1;32m    195\u001b[0m \u001b[0;34m\u001b[0m\u001b[0m\n",
      "\u001b[0;32m~/Dropbox (mackelab)/Artur/WorkDB/deepstorm/DECODE/engine/_loss_funcs.py\u001b[0m in \u001b[0;36meval_q_z_x\u001b[0;34m(self, S, P, XYZI_m, XYZI_s, XYZI, sv)\u001b[0m\n\u001b[1;32m     75\u001b[0m             \u001b[0mgmm\u001b[0m \u001b[0;34m=\u001b[0m \u001b[0mMixtureSameFamily\u001b[0m\u001b[0;34m(\u001b[0m\u001b[0mmix\u001b[0m\u001b[0;34m,\u001b[0m \u001b[0mcomp\u001b[0m\u001b[0;34m)\u001b[0m\u001b[0;34m\u001b[0m\u001b[0;34m\u001b[0m\u001b[0m\n\u001b[1;32m     76\u001b[0m \u001b[0;34m\u001b[0m\u001b[0m\n\u001b[0;32m---> 77\u001b[0;31m             \u001b[0ms_counts\u001b[0m \u001b[0;34m=\u001b[0m \u001b[0mtorch\u001b[0m\u001b[0;34m.\u001b[0m\u001b[0mtorch\u001b[0m\u001b[0;34m.\u001b[0m\u001b[0munique\u001b[0m\u001b[0;34m(\u001b[0m\u001b[0ms_inds\u001b[0m\u001b[0;34m[\u001b[0m\u001b[0;36m0\u001b[0m\u001b[0;34m]\u001b[0m\u001b[0;34m,\u001b[0m\u001b[0mreturn_counts\u001b[0m\u001b[0;34m=\u001b[0m\u001b[0;32mTrue\u001b[0m\u001b[0;34m)\u001b[0m\u001b[0;34m[\u001b[0m\u001b[0;36m2\u001b[0m\u001b[0;34m]\u001b[0m\u001b[0;34m\u001b[0m\u001b[0;34m\u001b[0m\u001b[0m\n\u001b[0m\u001b[1;32m     78\u001b[0m             \u001b[0ms_max\u001b[0m \u001b[0;34m=\u001b[0m \u001b[0ms_counts\u001b[0m\u001b[0;34m.\u001b[0m\u001b[0mmax\u001b[0m\u001b[0;34m(\u001b[0m\u001b[0;34m)\u001b[0m\u001b[0;34m\u001b[0m\u001b[0;34m\u001b[0m\u001b[0m\n\u001b[1;32m     79\u001b[0m \u001b[0;34m\u001b[0m\u001b[0m\n",
      "\u001b[0;31mIndexError\u001b[0m: tuple index out of range"
     ]
    }
   ],
   "source": [
    "model.fit(train_images, batch_size=batch_size,n_samples=n_samples, win_size=win_size, max_iters=50000, learning_rate = 6e-4, print_freq=100, print_output=True)"
   ]
  },
  {
   "cell_type": "code",
   "execution_count": null,
   "metadata": {
    "ExecuteTime": {
     "end_time": "2019-12-17T17:45:46.107599Z",
     "start_time": "2019-12-17T17:45:37.580Z"
    },
    "run_control": {
     "frozen": false,
     "read_only": false
    }
   },
   "outputs": [],
   "source": [
    "arr_infs = decode_func(model,eval_images,250,use_tqdm=True, z_scale=model.mgen.psf_pars['z_scale'], int_scale=model.mgen.psf_pars['scale'])"
   ]
  },
  {
   "cell_type": "code",
   "execution_count": null,
   "metadata": {
    "ExecuteTime": {
     "end_time": "2019-12-17T17:45:46.109795Z",
     "start_time": "2019-12-17T17:45:37.582Z"
    },
    "run_control": {
     "frozen": false,
     "read_only": false
    }
   },
   "outputs": [],
   "source": [
    "nms_sampling(arr_infs, threshold=0.7, batch_size=2500, nms=True, nms_cont=True)\n",
    "rescale(arr_infs, 20, sig_3d=False)\n",
    "preds = array_to_list(arr_infs, wobble=model.wobble)\n",
    "preds = filt_preds(preds,90,is_3d=True)\n",
    "tol = 500 if '3D' in model.mgen.psf_pars['modality'] else np.inf"
   ]
  },
  {
   "cell_type": "code",
   "execution_count": null,
   "metadata": {
    "ExecuteTime": {
     "end_time": "2019-12-17T17:45:46.111999Z",
     "start_time": "2019-12-17T17:45:37.584Z"
    },
    "run_control": {
     "frozen": false,
     "read_only": false
    }
   },
   "outputs": [],
   "source": [
    "match_dict, matches= matching(eval_csv, preds, print_res=True, min_int=False, tolerance_ax=tol)"
   ]
  },
  {
   "cell_type": "code",
   "execution_count": null,
   "metadata": {
    "ExecuteTime": {
     "end_time": "2019-12-17T17:45:46.114114Z",
     "start_time": "2019-12-17T17:45:37.586Z"
    },
    "run_control": {
     "frozen": false,
     "read_only": false
    }
   },
   "outputs": [],
   "source": [
    "locs = list_to_arr(home_folder+'/datasets/SMLM_2016/activations_HD_N1.csv')\n",
    "\n",
    "ps = ''\n",
    "\n",
    "pseudo_samp = arr_infs['Samples'+ps]\n",
    "inds = (locs['Samples']*pseudo_samp).nonzero()\n",
    "\n",
    "plt.figure(figsize=(40,10))\n",
    "plt.subplot(141)\n",
    "plt.scatter(locs['XO'][inds],arr_infs['XO'+ps][inds],linewidths=0)\n",
    "plt.plot([-0.5,0.5],[-0.5,0.5], linewidth = 3, color = 'red')\n",
    "plt.title('x offsets   ' + str(np.round(np.corrcoef(locs['XO'][inds],arr_infs['XO'+ps][inds])[0,1],2)), fontsize=24)\n",
    "\n",
    "plt.subplot(142)\n",
    "plt.scatter(locs['YO'][inds],arr_infs['YO'+ps][inds],linewidths=0)\n",
    "plt.plot([-0.5,0.5],[-0.5,0.5], linewidth = 3, color = 'red')\n",
    "plt.title('y offsets   ' + str(np.round(np.corrcoef(locs['YO'][inds],arr_infs['YO'+ps][inds])[0,1],2)), fontsize=24)\n",
    "\n",
    "plt.subplot(143)\n",
    "plt.scatter(locs['Int'][inds],arr_infs['Int'][inds],linewidths=0)\n",
    "plt.plot([locs['Int'][inds].min(),locs['Int'][inds].max()],[arr_infs['Int'][inds].min(),arr_infs['Int'][inds].max()], linewidth = 3, color = 'red')\n",
    "plt.title('Intensities   ' + str(np.round(np.corrcoef(locs['Int'][inds],arr_infs['Int'][inds])[0,1],2)), fontsize=24)\n",
    "\n",
    "plt.subplot(144)\n",
    "plt.scatter(locs['ZO'][inds],arr_infs['ZO'+ps][inds],linewidths=0)\n",
    "plt.title('z offsets   ' + str(np.round(np.corrcoef(locs['ZO'][inds],arr_infs['ZO'+ps][inds])[0,1],2)), fontsize=24)"
   ]
  },
  {
   "cell_type": "code",
   "execution_count": null,
   "metadata": {
    "ExecuteTime": {
     "end_time": "2019-12-17T17:45:46.116271Z",
     "start_time": "2019-12-17T17:45:37.589Z"
    },
    "run_control": {
     "frozen": false,
     "read_only": false
    }
   },
   "outputs": [],
   "source": [
    "plt.figure(figsize=(20,5))\n",
    "for i in range(1,len(model.mgen.w_map)+1):\n",
    "    plt.subplot(1,len(model.mgen.w_map),i)\n",
    "    plt.imshow(cpu(model.mgen.w_map)[i-1])\n",
    "    plt.title(cpu(model.mgen.w_map)[i-1].sum())"
   ]
  },
  {
   "cell_type": "code",
   "execution_count": null,
   "metadata": {
    "ExecuteTime": {
     "end_time": "2019-12-17T17:45:46.118378Z",
     "start_time": "2019-12-17T17:45:37.591Z"
    },
    "run_control": {
     "frozen": false,
     "read_only": false
    }
   },
   "outputs": [],
   "source": [
    "from matplotlib.patches import Circle\n",
    "\n",
    "pseudo_samp = arr_infs['Samples_ps']\n",
    "\n",
    "fig, ax_arr = plt.subplots(2,3, figsize=(30,30))\n",
    "plt.subplots_adjust(bottom=0.5)\n",
    "ax = []\n",
    "datas = [] \n",
    "plts = []\n",
    "for i in ax_arr:\n",
    "    for j in i:\n",
    "        ax.append(j)\n",
    "        \n",
    "datas.append(eval_images)\n",
    "datas.append(arr_infs['XO'])\n",
    "datas.append(arr_infs['YO'])\n",
    "datas.append(arr_infs['Probs'])\n",
    "datas.append(pseudo_samp)\n",
    "datas.append(arr_infs['Int'])\n",
    "\n",
    "titles = ['Image', 'Inferred x-offset', 'Inferred y-offset', 'Inferred probabilities','Pseudo sample', 'Inferred z-offset']\n",
    "\n",
    "ind = 45\n",
    "\n",
    "for i in range(len(ax)):\n",
    "    plts.append(ax[i].imshow(datas[i][ind]))\n",
    "    ax[i].set_title(titles[i], fontsize = 20)\n",
    "    plt.colorbar(plts[i], ax=ax[i], fraction=0.046, pad=0.04)\n",
    "\n",
    "for x,y in zip(locs['Samples'][ind].nonzero()[0],locs['Samples'][ind].nonzero()[1]):\n",
    "    circ = plt.Circle((y,x), radius=1.5, color='g', fill=False, lw=2)\n",
    "    ax[3].add_patch(plt.Circle((y,x), radius=1.5, color='g', fill=False, lw=2))\n",
    "    ax[4].add_patch(plt.Circle((y,x), radius=1.5, color='g', fill=False, lw=2))"
   ]
  },
  {
   "cell_type": "code",
   "execution_count": null,
   "metadata": {
    "ExecuteTime": {
     "end_time": "2019-12-17T17:45:46.120285Z",
     "start_time": "2019-12-17T17:45:37.593Z"
    },
    "run_control": {
     "frozen": false,
     "read_only": false
    }
   },
   "outputs": [],
   "source": [
    "if '3D' in model.mgen.psf_pars['modality']:\n",
    "    hist_img = create_3d_hist(preds, z_clip=[-700,700], pix_size=5, sigma=5, contrast_fac=20)\n",
    "else:\n",
    "    hist_img = create_2d_hist(preds, pix_size=5, sigma=5, contrast_fac=5)\n",
    "\n",
    "plt.figure(figsize=(20,10))\n",
    "plt.subplot(121)\n",
    "plt.imshow(hist_img)\n",
    "plt.axis('off')\n",
    "plt.subplot(122)\n",
    "plt.scatter(np.array(preds)[:,2],-np.array(preds)[:,3],s=0.01,color='black')\n",
    "plt.axis('off')"
   ]
  },
  {
   "cell_type": "code",
   "execution_count": null,
   "metadata": {
    "run_control": {
     "frozen": false,
     "read_only": false
    }
   },
   "outputs": [],
   "source": []
  }
 ],
 "metadata": {
  "hide_input": false,
  "kernelspec": {
   "display_name": "Python 3",
   "language": "python",
   "name": "python3"
  },
  "language_info": {
   "codemirror_mode": {
    "name": "ipython",
    "version": 3
   },
   "file_extension": ".py",
   "mimetype": "text/x-python",
   "name": "python",
   "nbconvert_exporter": "python",
   "pygments_lexer": "ipython3",
   "version": "3.6.9"
  },
  "widgets": {
   "state": {},
   "version": "1.1.0"
  }
 },
 "nbformat": 4,
 "nbformat_minor": 2
}
