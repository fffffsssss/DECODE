{
 "cells": [
  {
   "cell_type": "code",
   "execution_count": 1,
   "metadata": {
    "ExecuteTime": {
     "end_time": "2019-12-17T14:28:26.930882Z",
     "start_time": "2019-12-17T14:28:25.467204Z"
    },
    "run_control": {
     "frozen": false,
     "read_only": false
    }
   },
   "outputs": [],
   "source": [
    "import torch \n",
    "import numpy as np\n",
    "import collections\n",
    "import time\n",
    "import pickle \n",
    "from tqdm import tqdm\n",
    "\n",
    "import sys\n",
    "import os\n",
    "\n",
    "os.environ['CUDA_VISIBLE_DEVICES']='3'\n",
    "\n",
    "sys.path.append('engine/')\n",
    "sys.path.append('funcs/')\n",
    "sys.setrecursionlimit(10000)\n",
    "\n",
    "from matplotlib import pyplot as plt\n",
    "import seaborn as sns\n",
    "sns.set_style(\"white\")\n",
    "\n",
    "from Model import *\n",
    "from eval_funcs import *\n",
    "from plot_funcs import *\n",
    "from utils import *\n",
    "from csv_utils import *\n",
    "from psf_fit_funcs import *\n",
    "from tifffile import *\n",
    "from IPython.display import display, clear_output\n",
    "\n",
    "data_folder = os.getenv('HOME')+'/Mackebox/Artur/WorkDB/deepstorm/datasets/'"
   ]
  },
  {
   "cell_type": "code",
   "execution_count": 2,
   "metadata": {
    "ExecuteTime": {
     "end_time": "2019-12-17T14:28:27.763168Z",
     "start_time": "2019-12-17T14:28:26.934124Z"
    },
    "run_control": {
     "frozen": false,
     "read_only": false
    }
   },
   "outputs": [],
   "source": [
    "images = imread(data_folder+'/SMLM_REAL/tubulin-3D/Tubulin-A647-3D-BEADS-as-stacks.tif').astype(config.floatX); modality = 'AS'\n",
    "images = images[:,320:,140:332]\n",
    "backg,_ = get_bg_stats(images)\n",
    "\n",
    "true_locs = None"
   ]
  },
  {
   "cell_type": "code",
   "execution_count": 3,
   "metadata": {
    "ExecuteTime": {
     "end_time": "2019-12-17T14:28:28.394586Z",
     "start_time": "2019-12-17T14:28:27.766118Z"
    },
    "run_control": {
     "frozen": false,
     "read_only": false
    }
   },
   "outputs": [
    {
     "data": {
      "image/png": "[encoded data removed]",
      "text/plain": [
       "<Figure size 720x720 with 1 Axes>"
      ]
     },
     "metadata": {
      "needs_background": "light"
     },
     "output_type": "display_data"
    }
   ],
   "source": [
    "zero_ind = 170 # Sets the image which is considered to be in the focus plane. This frame is then used to perform an initial peak finding to dected all beads. \n",
    "z_step = 10 # Set the step size (in nano meter) and the maximum range that is used for PSF fitting\n",
    "z_range = 600\n",
    "\n",
    "peaks = get_peaks(images[zero_ind],threshold=2000,min_distance=10, double_helix='DH' in modality)\n",
    "\n",
    "fig,ax = plt.subplots(figsize=(10,10))\n",
    "ax.imshow(images[zero_ind])\n",
    "\n",
    "for x,y in zip(np.array(peaks)[:,0],np.array(peaks)[:,1]):\n",
    "    circ = plt.Circle((x,y), radius=0.3, color='g', fill=False, lw=2)\n",
    "    ax.add_patch(plt.Circle((x,y), radius=0.3, color='g', fill=False, lw=2))\n",
    "    ax.add_patch(plt.Circle((x,y), radius=0.3, color='g', fill=False, lw=2))"
   ]
  },
  {
   "cell_type": "code",
   "execution_count": null,
   "metadata": {
    "ExecuteTime": {
     "start_time": "2019-12-17T14:28:19.288Z"
    },
    "run_control": {
     "frozen": false,
     "read_only": false
    }
   },
   "outputs": [],
   "source": [
    "z_vals = np.arange(-z_range,z_range+1,z_step)\n",
    "images = images[zero_ind-z_range//10:zero_ind+z_range//10]"
   ]
  },
  {
   "cell_type": "code",
   "execution_count": null,
   "metadata": {
    "ExecuteTime": {
     "start_time": "2019-12-17T14:28:19.296Z"
    },
    "run_control": {
     "frozen": false,
     "read_only": false
    }
   },
   "outputs": [],
   "source": [
    "n_beads = len(peaks)\n",
    "\n",
    "signal = (images-backg).sum(-1).sum(-1)\n",
    "discrete_locs = np.zeros_like(images[:1])\n",
    "\n",
    "for xy in peaks:\n",
    "    discrete_locs[0,int(xy[1]),int(xy[0])] = 1\n",
    "peaks = np.array(discrete_locs[0].nonzero()).T[:,::-1]\n",
    "\n",
    "ints = gpu(np.mean(signal)/1000/n_beads * np.ones([1,n_beads]))\n",
    "xy_offsets = gpu(np.zeros([1,2,n_beads]))\n",
    "\n",
    "scaled_images = (images-backg)/np.array(signal,ndmin=3).T * signal.mean() + backg\n",
    "\n",
    "if true_locs is not None:\n",
    "    true_locs = sort_true_locs(true_locs, peaks)"
   ]
  },
  {
   "cell_type": "code",
   "execution_count": null,
   "metadata": {
    "ExecuteTime": {
     "start_time": "2019-12-17T14:28:19.300Z"
    },
    "run_control": {
     "frozen": false,
     "read_only": false
    }
   },
   "outputs": [],
   "source": [
    "psf_params = {'om_0':4.11, 'c_x':2.41, 'c_y':-0.24, 'd':2.33, 'z_scale':6}\n",
    "psf_params['modality'] = 'ASTIG_3D'\n",
    "\n",
    "psf_params['beads_fit'] = True\n",
    "psf_params['scale'] = 100.\n",
    "           \n",
    "mgen = LikelihoodModel(psf_params)\n",
    "\n",
    "mgen.XY = torch.nn.Parameter(xy_offsets)\n",
    "mgen.I = torch.nn.Parameter(ints/psf_params['scale'])\n",
    "mgen.ll_pars = {'backg': backg}\n",
    "\n",
    "mgen.lr = 0.03\n",
    "mgen.batch_size = 10\n",
    "mgen.n_samples = 1\n",
    "\n",
    "set_optimizers(mgen, mgen.lr)\n",
    "\n",
    "mgen.col_dict = {}\n",
    "mgen.col_dict['cost_hist'] = collections.OrderedDict([])"
   ]
  },
  {
   "cell_type": "code",
   "execution_count": null,
   "metadata": {
    "ExecuteTime": {
     "start_time": "2019-12-17T14:28:19.305Z"
    },
    "run_control": {
     "frozen": false,
     "read_only": false
    },
    "scrolled": false
   },
   "outputs": [
    {
     "data": {
      "text/plain": [
       "'9900: -150017.25'"
      ]
     },
     "metadata": {},
     "output_type": "display_data"
    }
   ],
   "source": [
    "iter_count = 0\n",
    "print_freq = 100\n",
    "\n",
    "costs = []\n",
    "\n",
    "if true_locs is not None: get_rmses(mgen, peaks, true_locs, print_output=True)\n",
    "\n",
    "for e in range(100):\n",
    "    \n",
    "    clear_output(wait=True)\n",
    "    \n",
    "    Iterator = StormIterator(print_freq, mgen.batch_size, scaled_images, z_vals/100)\n",
    "\n",
    "    cost = 0\n",
    "    for img, zo in Iterator:\n",
    "        cost += train_beads(mgen, img[:,None], discrete_locs.repeat(mgen.batch_size,0), zo)\n",
    "\n",
    "    cost /= print_freq\n",
    "    mgen.col_dict['cost_hist'][mgen._iter_count] = cpu(cost)\n",
    "    \n",
    "    display(str(mgen._iter_count) + ': ' + str(cpu(cost)))"
   ]
  },
  {
   "cell_type": "code",
   "execution_count": null,
   "metadata": {
    "ExecuteTime": {
     "start_time": "2019-12-17T14:28:19.308Z"
    },
    "run_control": {
     "frozen": false,
     "read_only": false
    }
   },
   "outputs": [],
   "source": [
    "recs = mgen.genfunc(gpu(discrete_locs.repeat(len(z_vals/100),0)),[mgen.XY,mgen.I,gpu(z_vals/100)], add_wmap=True) + backg\n",
    "recs = cpu(recs)"
   ]
  },
  {
   "cell_type": "code",
   "execution_count": null,
   "metadata": {
    "ExecuteTime": {
     "start_time": "2019-12-17T14:28:19.316Z"
    },
    "run_control": {
     "frozen": false,
     "read_only": false
    }
   },
   "outputs": [],
   "source": [
    "# Plots the reconstruction provided by the fitted model, the corresponding image and the difference between the two.\n",
    "\n",
    "n = 55\n",
    "f, axes = plt.subplots(1,3,figsize=(20,5))\n",
    "plt1 = axes[0].imshow(recs[n])\n",
    "plt2 = axes[1].imshow(scaled_images[n])\n",
    "plt3 = axes[2].imshow(recs[n]-scaled_images[n])\n",
    "\n",
    "plt.colorbar(plt1, ax=axes[0], fraction=0.046, pad=0.04)\n",
    "plt.colorbar(plt2, ax=axes[1], fraction=0.046, pad=0.04)\n",
    "plt.colorbar(plt3, ax=axes[2], fraction=0.046, pad=0.04)"
   ]
  },
  {
   "cell_type": "code",
   "execution_count": null,
   "metadata": {
    "ExecuteTime": {
     "start_time": "2019-12-17T14:28:19.319Z"
    },
    "run_control": {
     "frozen": false,
     "read_only": false
    }
   },
   "outputs": [],
   "source": [
    "# Plots the fitted pixel maps that account for the difference between the true and the parametric bead function. \n",
    "\n",
    "plt.figure(figsize=(30,10))\n",
    "for i in range(1,len(mgen.w_map)+1):\n",
    "    plt.subplot(1,len(mgen.w_map),i)\n",
    "    plt.imshow(cpu(mgen.w_map[i-1]))"
   ]
  },
  {
   "cell_type": "code",
   "execution_count": null,
   "metadata": {
    "ExecuteTime": {
     "start_time": "2019-12-17T14:28:19.323Z"
    },
    "run_control": {
     "frozen": false,
     "read_only": false
    }
   },
   "outputs": [],
   "source": [
    "# Stores the fitted parameters so they can be used to train a DECODE model\n",
    "\n",
    "save_dict = {}\n",
    "save_dict['w_map'] = mgen.w_map\n",
    "save_dict['psf_params'] = mgen.psf_pars\n",
    "save_dict['gen_model'] = mgen\n",
    "save_dict['wobble'] = [0,0]\n",
    "save_dict['costs'] = costs\n",
    "\n",
    "with open('psf_real.pkl', 'wb') as f:\n",
    "    pickle.dump(save_dict, f)"
   ]
  },
  {
   "cell_type": "code",
   "execution_count": null,
   "metadata": {
    "run_control": {
     "frozen": false,
     "read_only": false
    }
   },
   "outputs": [],
   "source": []
  }
 ],
 "metadata": {
  "hide_input": false,
  "kernelspec": {
   "display_name": "Python 3",
   "language": "python",
   "name": "python3"
  },
  "language_info": {
   "codemirror_mode": {
    "name": "ipython",
    "version": 3
   },
   "file_extension": ".py",
   "mimetype": "text/x-python",
   "name": "python",
   "nbconvert_exporter": "python",
   "pygments_lexer": "ipython3",
   "version": "3.6.7"
  },
  "widgets": {
   "state": {},
   "version": "1.1.0"
  }
 },
 "nbformat": 4,
 "nbformat_minor": 2
}
