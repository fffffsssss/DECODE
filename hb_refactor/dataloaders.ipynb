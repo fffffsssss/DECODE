{
 "cells": [
  {
   "cell_type": "code",
   "execution_count": 4,
   "metadata": {},
   "outputs": [],
   "source": [
    "# default_exp dataloaders"
   ]
  },
  {
   "cell_type": "code",
   "execution_count": 5,
   "metadata": {},
   "outputs": [
    {
     "name": "stdout",
     "output_type": "stream",
     "text": [
      "The autoreload extension is already loaded. To reload it, use:\n",
      "  %reload_ext autoreload\n"
     ]
    }
   ],
   "source": [
    "%load_ext autoreload\n",
    "%autoreload 2"
   ]
  },
  {
   "cell_type": "markdown",
   "metadata": {},
   "source": [
    "## Dataloaders\n",
    "> Dataloaders for decode"
   ]
  },
  {
   "cell_type": "code",
   "execution_count": 6,
   "metadata": {},
   "outputs": [],
   "source": [
    "from pathlib import Path\n",
    "from nbdev_template.utils import tiff_imread, show_image\n",
    "import torch\n",
    "from nbdev_template.transforms import ScaleTensor, RandomCrop3D\n",
    "from nbdev_template.pointsource import PointSourceGaussian\n",
    "import numpy as np\n",
    "import matplotlib.pyplot as plt"
   ]
  },
  {
   "cell_type": "code",
   "execution_count": 7,
   "metadata": {},
   "outputs": [],
   "source": [
    "#export\n",
    "import torch"
   ]
  },
  {
   "cell_type": "code",
   "execution_count": 8,
   "metadata": {},
   "outputs": [],
   "source": [
    "#export\n",
    "class DecodeDataset:\n",
    "    def __init__(self, tiff_stack: torch.Tensor, dataset_tfms: list, gen_tfms: list, num_iter = 5000):\n",
    "        self.imgs = tiff_stack\n",
    "        self.dataset_tfms = dataset_tfms\n",
    "        self.gen_tfms   = gen_tfms\n",
    "        self.num_iter = num_iter\n",
    "    \n",
    "    def __len__(self):\n",
    "        return self.num_iter\n",
    "   \n",
    "    def __getitem__(self, _):\n",
    "        x = self._compose(self.imgs, self.dataset_tfms)\n",
    "        gen_x = self._compose(x, self.gen_tfms)\n",
    "        return x, gen_x\n",
    "    \n",
    "    def __repr__(self):\n",
    "        print (f'{self.__class__.__name__} Summary:')\n",
    "        print (f'tiff image stack: {self.imgs.shape}\\n')\n",
    "        print (f'Dataset tfms: {len(self.dataset_tfms)}')\n",
    "        for i in self.dataset_tfms:\n",
    "            print (f'\\n-->')\n",
    "            f\"{i}\"\n",
    "        print (f'\\nGenerative data tfms: {len(self.gen_tfms)}')\n",
    "        for i in self.gen_tfms:\n",
    "            print (f'\\n-->')\n",
    "            f\"{i}\"\n",
    "            \n",
    "        return ''\n",
    "    \n",
    "    @staticmethod\n",
    "    def _compose(x, list_func):\n",
    "        if not list_func: list_func.append(lambda x: x)\n",
    "        for func in list_func: x = func(x)\n",
    "        return x"
   ]
  },
  {
   "cell_type": "code",
   "execution_count": 9,
   "metadata": {},
   "outputs": [],
   "source": [
    "TRN_IMG_3D_P = Path('/nrs/turaga/smlm_data/SvobodaWang_mFISH/sample.ALM.tif')\n",
    "#switching from (h, c, w, d) to (c, h, w, d) and only using 1 channel since its our data\n",
    "TRN_IMG_3D = torch.tensor(tiff_imread(TRN_IMG_3D_P).astype('float32')).permute(1, 0, 2, 3)[1].unsqueeze(0);\n",
    "norma = ScaleTensor(low=0.0, high=1.0, data_min = TRN_IMG_3D.min(), data_max = TRN_IMG_3D.max())"
   ]
  },
  {
   "cell_type": "code",
   "execution_count": 10,
   "metadata": {},
   "outputs": [],
   "source": [
    "TRN_IMG_3D_norma = norma(TRN_IMG_3D)"
   ]
  },
  {
   "cell_type": "code",
   "execution_count": 11,
   "metadata": {},
   "outputs": [
    {
     "data": {
      "text/plain": [
       "(tensor(0.), tensor(1.))"
      ]
     },
     "execution_count": 11,
     "metadata": {},
     "output_type": "execute_result"
    }
   ],
   "source": [
    "TRN_IMG_3D_norma.min(), TRN_IMG_3D_norma.max()"
   ]
  },
  {
   "cell_type": "code",
   "execution_count": 12,
   "metadata": {},
   "outputs": [],
   "source": [
    "data_min = 0.0\n",
    "data_max = 1.0\n",
    "low      = 0.001\n",
    "high     = 0.015\n",
    "crop_sz = (101, 200, 200)\n",
    "min_int=0.4"
   ]
  },
  {
   "cell_type": "code",
   "execution_count": 13,
   "metadata": {},
   "outputs": [],
   "source": [
    "probmap_generator = ScaleTensor(low=low, high=high, data_min = data_min, data_max = data_max)\n",
    "rand_crop = RandomCrop3D(TRN_IMG_3D_norma.shape, crop_sz)\n",
    "point_source = PointSourceGaussian(min_int)"
   ]
  },
  {
   "cell_type": "code",
   "execution_count": 14,
   "metadata": {},
   "outputs": [],
   "source": [
    "ds = DecodeDataset(TRN_IMG_3D_norma.cuda(), dataset_tfms=[rand_crop], gen_tfms=[probmap_generator, point_source], num_iter=10)"
   ]
  },
  {
   "cell_type": "code",
   "execution_count": 15,
   "metadata": {},
   "outputs": [
    {
     "name": "stdout",
     "output_type": "stream",
     "text": [
      "DecodeDataset Summary:\n",
      "tiff image stack: torch.Size([1, 101, 960, 960])\n",
      "\n",
      "Dataset tfms: 1\n",
      "\n",
      "-->\n",
      "Transform(RandomCrop3D)\n",
      "img_sz: (101, 960, 960)\n",
      "crop_sz: (101, 200, 200)\n",
      "\n",
      "Generative data tfms: 2\n",
      "\n",
      "-->\n",
      "Transform(ScaleTensor)\n",
      "low: 0.001\n",
      "high: 0.015\n",
      "data_min: 0.0\n",
      "data_max: 1.0\n",
      "\n",
      "-->\n",
      "Transform(PointSourceGaussian)\n",
      "min_int: 0.4\n"
     ]
    },
    {
     "data": {
      "text/plain": []
     },
     "execution_count": 15,
     "metadata": {},
     "output_type": "execute_result"
    }
   ],
   "source": [
    "ds"
   ]
  },
  {
   "cell_type": "code",
   "execution_count": 25,
   "metadata": {},
   "outputs": [],
   "source": [
    "x, (locs_3d, x_os_3d, y_os_3d, z_os_3d, ints_3d) = ds[_]"
   ]
  },
  {
   "cell_type": "code",
   "execution_count": 26,
   "metadata": {},
   "outputs": [
    {
     "data": {
      "text/plain": [
       "[torch.Size([1, 101, 200, 200]),\n",
       " torch.Size([1, 101, 200, 200]),\n",
       " torch.Size([1, 101, 200, 200]),\n",
       " torch.Size([1, 101, 200, 200]),\n",
       " torch.Size([1, 101, 200, 200]),\n",
       " torch.Size([1, 101, 200, 200])]"
      ]
     },
     "execution_count": 26,
     "metadata": {},
     "output_type": "execute_result"
    }
   ],
   "source": [
    "list(map(lambda x: getattr(x, 'size')(), [x, locs_3d, x_os_3d, y_os_3d, z_os_3d, ints_3d,]))"
   ]
  },
  {
   "cell_type": "code",
   "execution_count": 27,
   "metadata": {},
   "outputs": [
    {
     "data": {
      "text/plain": [
       "<matplotlib.axes._subplots.AxesSubplot at 0x7fda7c0a3bd0>"
      ]
     },
     "execution_count": 27,
     "metadata": {},
     "output_type": "execute_result"
    },
    {
     "data": {
      "image/png": "[encoded data removed]",
      "text/plain": [
       "<Figure size 1440x1440 with 6 Axes>"
      ]
     },
     "metadata": {
      "needs_background": "light"
     },
     "output_type": "display_data"
    }
   ],
   "source": [
    "idx = 0\n",
    "ch = 0\n",
    "fig, axes = plt.subplots(1, 6, figsize=(20, 20))\n",
    "show_image(x      .permute(1, 0, 2, 3)[:, ch, :, :][idx], title= '3D x'    , ax = axes[0])\n",
    "show_image(locs_3d.permute(1, 0, 2, 3)[:, ch, :, :][idx], title= 'locs'    , ax = axes[1])\n",
    "show_image(x_os_3d.permute(1, 0, 2, 3)[:, ch, :, :][idx], title= 'x offset', ax = axes[2])\n",
    "show_image(y_os_3d.permute(1, 0, 2, 3)[:, ch, :, :][idx], title= 'y offset', ax = axes[3])\n",
    "show_image(z_os_3d.permute(1, 0, 2, 3)[:, ch, :, :][idx], title= 'z offset', ax = axes[4])\n",
    "show_image(ints_3d.permute(1, 0, 2, 3)[:, ch, :, :][idx], title= 'intensit', ax = axes[5])"
   ]
  },
  {
   "cell_type": "code",
   "execution_count": null,
   "metadata": {},
   "outputs": [],
   "source": []
  },
  {
   "cell_type": "code",
   "execution_count": null,
   "metadata": {},
   "outputs": [],
   "source": []
  }
 ],
 "metadata": {
  "kernelspec": {
   "display_name": "Python 3",
   "language": "python",
   "name": "python3"
  },
  "language_info": {
   "codemirror_mode": {
    "name": "ipython",
    "version": 3
   },
   "file_extension": ".py",
   "mimetype": "text/x-python",
   "name": "python",
   "nbconvert_exporter": "python",
   "pygments_lexer": "ipython3",
   "version": "3.7.7"
  }
 },
 "nbformat": 4,
 "nbformat_minor": 4
}
