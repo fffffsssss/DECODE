{
 "cells": [
  {
   "cell_type": "code",
   "execution_count": 40,
   "metadata": {},
   "outputs": [],
   "source": [
    "# default_exp pointsource"
   ]
  },
  {
   "cell_type": "code",
   "execution_count": 41,
   "metadata": {},
   "outputs": [
    {
     "name": "stdout",
     "output_type": "stream",
     "text": [
      "The autoreload extension is already loaded. To reload it, use:\n",
      "  %reload_ext autoreload\n"
     ]
    }
   ],
   "source": [
    "%load_ext autoreload\n",
    "%autoreload 2"
   ]
  },
  {
   "cell_type": "markdown",
   "metadata": {},
   "source": [
    "## Pointsource\n",
    "> This module contain diffrent samplers for generation point sources"
   ]
  },
  {
   "cell_type": "code",
   "execution_count": 42,
   "metadata": {},
   "outputs": [],
   "source": [
    "from pathlib import Path\n",
    "from nbdev_template.utils import *\n",
    "import torch\n",
    "import inspect\n",
    "from nbdev.showdoc import *\n",
    "from fastcore.test import *\n",
    "import numpy as np\n",
    "import matplotlib.pyplot as plt\n",
    "from nbdev_template.transforms import *"
   ]
  },
  {
   "cell_type": "code",
   "execution_count": 43,
   "metadata": {},
   "outputs": [],
   "source": [
    "#export\n",
    "import torch\n",
    "from nbdev_template.transforms import *"
   ]
  },
  {
   "cell_type": "code",
   "execution_count": 44,
   "metadata": {},
   "outputs": [],
   "source": [
    "TRN_IMG_3D_P = Path('/nrs/turaga/smlm_data/SvobodaWang_mFISH/sample.ALM.tif')\n",
    "TRN_IMG_3D = torch.tensor(tiff_imread(TRN_IMG_3D_P).astype('float32'));\n",
    "TRN_IMG_3D = TRN_IMG_3D.permute(1, 0, 2, 3)"
   ]
  },
  {
   "cell_type": "code",
   "execution_count": 45,
   "metadata": {},
   "outputs": [],
   "source": [
    "data_min = TRN_IMG_3D.min()\n",
    "data_max = TRN_IMG_3D.max()\n",
    "low      = torch.tensor(0.001)\n",
    "high     = torch.tensor(0.05)"
   ]
  },
  {
   "cell_type": "code",
   "execution_count": 46,
   "metadata": {},
   "outputs": [
    {
     "name": "stdout",
     "output_type": "stream",
     "text": [
      "Transform(ScaleTensor)\n",
      "low: 0.0010000000474974513\n",
      "high: 0.05000000074505806\n",
      "data_min: 176.0\n",
      "data_max: 3169.0\n"
     ]
    },
    {
     "data": {
      "text/plain": []
     },
     "execution_count": 46,
     "metadata": {},
     "output_type": "execute_result"
    }
   ],
   "source": [
    "scaler = ScaleTensor(low=low, high=high, data_min = data_min, data_max = data_max)\n",
    "scaler"
   ]
  },
  {
   "cell_type": "code",
   "execution_count": 47,
   "metadata": {},
   "outputs": [
    {
     "name": "stdout",
     "output_type": "stream",
     "text": [
      "Transform(RandomCrop3D)\n",
      "img_sz: (101, 960, 960)\n",
      "crop_sz: (101, 100, 100)\n"
     ]
    },
    {
     "data": {
      "text/plain": []
     },
     "execution_count": 47,
     "metadata": {},
     "output_type": "execute_result"
    }
   ],
   "source": [
    "crop_sz = (101, 100, 100)\n",
    "rand_crop = RandomCrop3D(TRN_IMG_3D.shape, crop_sz)\n",
    "rand_crop"
   ]
  },
  {
   "cell_type": "code",
   "execution_count": 48,
   "metadata": {},
   "outputs": [],
   "source": [
    "M = rand_crop(scaler(TRN_IMG_3D))"
   ]
  },
  {
   "cell_type": "code",
   "execution_count": 49,
   "metadata": {},
   "outputs": [
    {
     "data": {
      "text/plain": [
       "torch.Size([3, 101, 100, 100])"
      ]
     },
     "execution_count": 49,
     "metadata": {},
     "output_type": "execute_result"
    }
   ],
   "source": [
    "M.shape"
   ]
  },
  {
   "cell_type": "code",
   "execution_count": 50,
   "metadata": {},
   "outputs": [],
   "source": [
    "#export\n",
    "class PointSourceGaussian(TransfromBase):\n",
    "    \"\"\"\n",
    "    Sample Point Source from Gaussina and Binomial Distribution\n",
    "    \n",
    "    \\n This class is part of generative model and uses probility density map `m` to generate \n",
    "    locations `loc`  `x`, `y`, `z` offsets and `ints` intensity of emitters. `m` should be \n",
    "    `torch.tensor` scaled from 0.001 to 1, which is used by `_sample_bin` to generate `0` and\n",
    "    `1` . `0` means that we dont have emitter at given pixel and 1 means emitters is presnet. This\n",
    "    map is used to generate offset in `x`, `y`, `z` and intensities which tells how bright is emitter\n",
    "    or in same casses how many emitters are bound to RNA molecules.\n",
    "    \n",
    "    \n",
    "    \\nParameters:\n",
    "    \\n`min_int`     : minimum intensity of emitters\n",
    "\n",
    "    \\nReturns:\n",
    "    \\n`locs`: locations of the emitters\n",
    "    \\n`x_os`: x offset of the emitters\n",
    "    \\n`y_os`: y offset of the emitters\n",
    "    \\n`z_os`: z offset of the emitters\n",
    "    \\n`ints`: z intensity of the emitters\n",
    "    \n",
    "    \n",
    "    \"\"\"\n",
    "\n",
    "    def __init__(self, min_int: float):\n",
    "        self.min_int = min_int\n",
    "    \n",
    "    def __call__(self, m):\n",
    "        super().__call__(m)\n",
    "        dev = self._get_device(m)\n",
    "        zeros = torch.zeros_like(m)\n",
    "        locs  = self._sample_bin(1, m).to(dev)\n",
    "        x_os  = self._sample_uni(zeros-0.5, zeros+0.5).to(dev)\n",
    "        y_os  = self._sample_uni(zeros-0.5, zeros+0.5).to(dev)\n",
    "        z_os  = self._sample_uni(zeros-0.5, zeros+0.5).to(dev)\n",
    "        ints  = self._sample_uni(zeros+self.min_int, torch.ones_like(zeros)).to(dev)\n",
    "        x_os *= locs\n",
    "        y_os *= locs\n",
    "        z_os *= locs\n",
    "        ints *= locs\n",
    "        return locs, x_os, y_os, z_os, ints\n",
    "    \n",
    "    @staticmethod\n",
    "    def _sample_uni(low, high):\n",
    "        return getattr(torch.distributions, 'Uniform')(low=low, high=high).sample()\n",
    "    \n",
    "    @staticmethod\n",
    "    def _sample_bin(total_count, probs, **kwargs):\n",
    "        return getattr(torch.distributions, 'Binomial')(total_count=total_count, probs=probs, **kwargs).sample()\n",
    "    \n"
   ]
  },
  {
   "cell_type": "code",
   "execution_count": 51,
   "metadata": {},
   "outputs": [
    {
     "data": {
      "text/markdown": [
       "<h2 id=\"PointSourceGaussian\" class=\"doc_header\"><code>class</code> <code>PointSourceGaussian</code><a href=\"\" class=\"source_link\" style=\"float:right\">[source]</a></h2>\n",
       "\n",
       "> <code>PointSourceGaussian</code>(**`min_int`**:`float`) :: [`TransfromBase`](/nbdev_template/transforms#TransfromBase)\n",
       "\n",
       "    Sample Point Source from Gaussina and Binomial Distribution\n",
       "    \n",
       "    \n",
       " This class is part of generative model and uses probility density map `m` to generate \n",
       "    locations `loc`  `x`, `y`, `z` offsets and `ints` intensity of emitters. `m` should be \n",
       "    `torch.tensor` scaled from 0.001 to 1, which is used by `_sample_bin` to generate `0` and\n",
       "    `1` . `0` means that we dont have emitter at given pixel and 1 means emitters is presnet. This\n",
       "    map is used to generate offset in `x`, `y`, `z` and intensities which tells how bright is emitter\n",
       "    or in same casses how many emitters are bound to RNA molecules.\n",
       "    \n",
       "    \n",
       "    \n",
       "Parameters:\n",
       "    \n",
       "`min_int`     : minimum intensity of emitters\n",
       "\n",
       "    \n",
       "Returns:\n",
       "    \n",
       "`locs`: locations of the emitters\n",
       "    \n",
       "`x_os`: x offset of the emitters\n",
       "    \n",
       "`y_os`: y offset of the emitters\n",
       "    \n",
       "`z_os`: z offset of the emitters\n",
       "    \n",
       "`ints`: z intensity of the emitters\n",
       "    \n",
       "    \n",
       "    "
      ],
      "text/plain": [
       "<IPython.core.display.Markdown object>"
      ]
     },
     "metadata": {},
     "output_type": "display_data"
    }
   ],
   "source": [
    "show_doc(PointSourceGaussian)"
   ]
  },
  {
   "cell_type": "code",
   "execution_count": 52,
   "metadata": {},
   "outputs": [
    {
     "name": "stdout",
     "output_type": "stream",
     "text": [
      "Transform(PointSourceGaussian)\n",
      "min_int: 0.4\n"
     ]
    },
    {
     "data": {
      "text/plain": []
     },
     "execution_count": 52,
     "metadata": {},
     "output_type": "execute_result"
    }
   ],
   "source": [
    "min_int=0.4\n",
    "point_source = PointSourceGaussian(min_int)\n",
    "point_source"
   ]
  },
  {
   "cell_type": "code",
   "execution_count": 53,
   "metadata": {},
   "outputs": [],
   "source": [
    "test_eq(callable(point_source), True)\n",
    "test_eq(point_source.min_int, min_int)\n",
    "test_eq(len(point_source(M)), 5)\n",
    "test_eq(M.device, point_source(M)[0].device)\n",
    "test_eq(M.cuda().device, point_source(M.cuda())[0].device)\n",
    "test_eq(M.cuda().device, point_source(M.cuda())[1].device)\n",
    "test_eq(M.cuda().device, point_source(M.cuda())[2].device)\n",
    "test_eq(M.cuda().device, point_source(M.cuda())[3].device)\n",
    "test_eq(M.cuda().device, point_source(M.cuda())[4].device)\n",
    "test_eq((point_source(M)[0].min(), point_source(M)[0].max()), (0, 1))\n",
    "test_eq(list(map(lambda x: getattr(x, 'size')(), point_source(M))), [M.shape] *5)"
   ]
  },
  {
   "cell_type": "code",
   "execution_count": 54,
   "metadata": {},
   "outputs": [],
   "source": [
    "locs_3d, x_os_3d, y_os_3d, z_os_3d, ints_3d = point_source(M)"
   ]
  },
  {
   "cell_type": "code",
   "execution_count": 55,
   "metadata": {},
   "outputs": [
    {
     "data": {
      "text/plain": [
       "[torch.Size([3, 101, 100, 100]),\n",
       " torch.Size([3, 101, 100, 100]),\n",
       " torch.Size([3, 101, 100, 100]),\n",
       " torch.Size([3, 101, 100, 100]),\n",
       " torch.Size([3, 101, 100, 100])]"
      ]
     },
     "execution_count": 55,
     "metadata": {},
     "output_type": "execute_result"
    }
   ],
   "source": [
    "list(map(lambda x: getattr(x, 'size')(), [locs_3d, x_os_3d, y_os_3d, z_os_3d, ints_3d,]))"
   ]
  },
  {
   "cell_type": "code",
   "execution_count": 56,
   "metadata": {},
   "outputs": [
    {
     "data": {
      "text/plain": [
       "<matplotlib.axes._subplots.AxesSubplot at 0x7f008c0ed650>"
      ]
     },
     "execution_count": 56,
     "metadata": {},
     "output_type": "execute_result"
    },
    {
     "data": {
      "image/png": "[encoded data removed]",
      "text/plain": [
       "<Figure size 1440x1440 with 6 Axes>"
      ]
     },
     "metadata": {
      "needs_background": "light"
     },
     "output_type": "display_data"
    }
   ],
   "source": [
    "idx = 1\n",
    "ch = 1\n",
    "fig, axes = plt.subplots(1, 6, figsize=(20, 20))\n",
    "show_image(M      .permute(1, 0, 2, 3)[:, ch, :, :][idx], title= '3D x'    , ax = axes[0])\n",
    "show_image(locs_3d.permute(1, 0, 2, 3)[:, ch, :, :][idx], title= 'locs'    , ax = axes[1])\n",
    "show_image(x_os_3d.permute(1, 0, 2, 3)[:, ch, :, :][idx], title= 'x offset', ax = axes[2])\n",
    "show_image(y_os_3d.permute(1, 0, 2, 3)[:, ch, :, :][idx], title= 'y offset', ax = axes[3])\n",
    "show_image(z_os_3d.permute(1, 0, 2, 3)[:, ch, :, :][idx], title= 'z offset', ax = axes[4])\n",
    "show_image(ints_3d.permute(1, 0, 2, 3)[:, ch, :, :][idx], title= 'intensit', ax = axes[5])"
   ]
  },
  {
   "cell_type": "code",
   "execution_count": 57,
   "metadata": {},
   "outputs": [
    {
     "name": "stdout",
     "output_type": "stream",
     "text": [
      "Converted 00_models.ipynb.\n",
      "Converted 01_simulation.ipynb.\n",
      "Converted index.ipynb.\n",
      "Converted pointsource.ipynb.\n",
      "Converted transforms.ipynb.\n",
      "Converted utils.ipynb.\n"
     ]
    }
   ],
   "source": [
    "from nbdev.export import *\n",
    "notebook2script()"
   ]
  },
  {
   "cell_type": "code",
   "execution_count": null,
   "metadata": {},
   "outputs": [],
   "source": []
  },
  {
   "cell_type": "code",
   "execution_count": null,
   "metadata": {},
   "outputs": [],
   "source": []
  }
 ],
 "metadata": {
  "kernelspec": {
   "display_name": "Python 3",
   "language": "python",
   "name": "python3"
  },
  "language_info": {
   "codemirror_mode": {
    "name": "ipython",
    "version": 3
   },
   "file_extension": ".py",
   "mimetype": "text/x-python",
   "name": "python",
   "nbconvert_exporter": "python",
   "pygments_lexer": "ipython3",
   "version": "3.7.7"
  }
 },
 "nbformat": 4,
 "nbformat_minor": 4
}
